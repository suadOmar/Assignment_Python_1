{
 "cells": [
  {
   "cell_type": "markdown",
   "id": "e726e24d-eb75-475e-bf9f-1eda8369d743",
   "metadata": {},
   "source": [
    "1) Implement Fibonacci series using recursion"
   ]
  },
  {
   "cell_type": "code",
   "execution_count": 8,
   "id": "1244eec7-4f6d-4960-aa47-a0f5f481b350",
   "metadata": {},
   "outputs": [
    {
     "name": "stdout",
     "output_type": "stream",
     "text": [
      "0\n",
      "1\n",
      "1\n",
      "2\n",
      "3\n",
      "5\n",
      "8\n",
      "13\n"
     ]
    }
   ],
   "source": [
    "def fibonacci(number):\n",
    "    if  number<=1:\n",
    "        return number \n",
    "    else:\n",
    "        return fibonacci(number-1)+fibonacci(number-2)\n",
    "\n",
    "for i in range(0,8):\n",
    "    print(fibonacci(i))"
   ]
  },
  {
   "cell_type": "markdown",
   "id": "2e959ec6-6c49-4e1d-bd4a-b9b6d273870c",
   "metadata": {},
   "source": [
    "2) Write a function that will take a given string and reverse the order of the words "
   ]
  },
  {
   "cell_type": "code",
   "execution_count": 14,
   "id": "12eed482-1a38-4c25-b139-2676e96fabd0",
   "metadata": {},
   "outputs": [
    {
     "name": "stdout",
     "output_type": "stream",
     "text": [
      "you with be Fourth the May\n"
     ]
    }
   ],
   "source": [
    "def reverseString(string1):\n",
    "    list1 = string1.split()\n",
    "    list2 = [0] * len(list1)\n",
    "    j = len(list1) - 1\n",
    "\n",
    "    for i in range(len(list2)):\n",
    "        list2[i] = list1[j]\n",
    "        j-= 1\n",
    "\n",
    "    final_string=\" \".join(list2)\n",
    "    print(final_string)\n",
    "\n",
    "\n",
    "reverseString(\"May the Fourth be with you\")"
   ]
  },
  {
   "cell_type": "markdown",
   "id": "7591dfeb-f6de-4e92-9816-99888e6f140c",
   "metadata": {},
   "source": [
    "3) Write a function, primeNumberDetector, that tests if a number, n is a prime number."
   ]
  },
  {
   "cell_type": "code",
   "execution_count": 15,
   "id": "45894d32-b839-4df3-ac34-209c7d282045",
   "metadata": {},
   "outputs": [
    {
     "name": "stdout",
     "output_type": "stream",
     "text": [
      "7 is a prime number\n"
     ]
    }
   ],
   "source": [
    "def primeNumbers(n):\n",
    "    if n==1:\n",
    "        print(\"{} is not a prime number\".format(n))\n",
    "    elif n==2:\n",
    "        print(\"{} is a prime number\".format(n))\n",
    "    elif n>1 :\n",
    "        if n%2!=0:\n",
    "            print(\"{} is a prime number\".format(n))\n",
    "        else:\n",
    "            print(\"{} is  not a prime number\".format(n))\n",
    "\n",
    "primeNumbers(7)"
   ]
  },
  {
   "cell_type": "markdown",
   "id": "4e079758-91e5-474e-9a1f-a1b1742753ad",
   "metadata": {},
   "source": [
    "4) Given an integer x, return true if x is a palindrome, and false otherwise."
   ]
  },
  {
   "cell_type": "code",
   "execution_count": 7,
   "id": "5ef03858-f4a4-450f-9b09-595e40eb9023",
   "metadata": {},
   "outputs": [
    {
     "name": "stdin",
     "output_type": "stream",
     "text": [
      "Enter any number 121\n"
     ]
    },
    {
     "name": "stdout",
     "output_type": "stream",
     "text": [
      "True\n",
      "True\n",
      "True\n"
     ]
    }
   ],
   "source": [
    "num=int(input(\"Enter any number\"))\n",
    "str1=str(num)\n",
    "j=len(str1)-1\n",
    "for i in range(len(str1)):\n",
    "    if str1[i]!=str1[j]:\n",
    "        print(False)\n",
    "        break\n",
    "    else:\n",
    "        j -= 1\n",
    "        print(True)"
   ]
  }
 ],
 "metadata": {
  "kernelspec": {
   "display_name": "Python 3 (ipykernel)",
   "language": "python",
   "name": "python3"
  },
  "language_info": {
   "codemirror_mode": {
    "name": "ipython",
    "version": 3
   },
   "file_extension": ".py",
   "mimetype": "text/x-python",
   "name": "python",
   "nbconvert_exporter": "python",
   "pygments_lexer": "ipython3",
   "version": "3.9.13"
  }
 },
 "nbformat": 4,
 "nbformat_minor": 5
}
